{
 "cells": [
  {
   "cell_type": "code",
   "execution_count": 76,
   "metadata": {},
   "outputs": [
    {
     "name": "stdout",
     "output_type": "stream",
     "text": [
      "['Space', 'Camp', 'is', 'a', 'pretty', 'decent', 'film', 'The', 'plot', 'is', 'predictable', 'but', 'the', 'actors', 'do', 'a', 'good', 'job', 'and', 'the', 'special', 'effects', 'are', 'decent', 'for', 'the', 'time<br', '><br', '>This', 'film', 'was', 'originally', 'released', 'about', 'the', 'time', 'of', 'the', 'shuttle', 'disaster', 'and', 'that', 'really', 'put', 'a', 'hamper', 'on', 'how', 'popular', 'it', 'was<br', '><br', '>The', 'scene', 'where', 'the', 'shuttle', 'doors', 'open', 'in', 'space', 'is', 'simply', 'spectacular', 'on', 'the', 'big', 'screen', 'that', 'is', 'on', 'a', 'TV', 'it', 'just', 'looks', 'average', 'I', 'remember', 'this', 'scene', 'in', 'the', 'theater', 'It', 'made', 'you', 'feel', 'like', 'you', 'were', 'really', 'up', 'there<br', '><br', '>This', 'would', 'be', 'a', 'good', 'film', 'to', 'see', 'on', 'IMAX', 'but', \"I'm\", 'sure', 'that', 'will', 'never', 'happen']\n",
      "['What', 'a', 'cast', 'of', 'actors', 'and', 'actresses', 'in', 'this', 'Columbo', 'episode', 'beside', 'Peter', 'Falk', 'you', 'have', 'Julie', 'Newmar', 'Jeannette', 'Nolan', 'Martin', 'Landau', 'as', 'twins', 'Anyway', 'the', 'old', 'uncle', 'dies', 'mysteriously', 'and', 'it', 'looks', 'like', 'a', 'heart', 'attack', 'on', 'the', 'bicycle', 'discovered', 'by', 'his', 'fiancé', 'Julie', 'Newmar', 'who', 'plays', 'the', 'role', 'so', 'deliciously', 'Jeannette', 'Nolan', 'plays', 'the', 'other', 'woman', 'of', 'the', 'house', 'the', 'housekeeper', 'who', 'prides', 'herself', 'on', 'her', 'talents', 'and', 'chides', \"Columbo's\", 'sloppy', 'and', 'often', 'typical', 'behavior', 'with', 'his', 'cigar', 'Martin', 'Landau', 'plays', 'identical', 'twins', 'in', 'this', 'one', 'Each', 'who', 'accuse', 'the', 'other', 'of', 'murdering', 'their', 'uncle', 'for', 'money', 'Well', \"you'll\", 'just', 'have', 'to', 'watch', 'and', 'see', 'the', 'outcome', 'but', 'I', 'can', 'assure', 'you', 'that', \"it's\", 'always', 'worth', 'watching', 'this', 'one', 'for', 'the', 'cast', 'and', 'the', 'crew']\n"
     ]
    }
   ],
   "source": [
    "import pandas as pd\n",
    "import numpy as np\n",
    "\n",
    "df_reviews = pd.read_csv('IMDB_Dataset.csv')\n",
    "\n",
    "n_indices = len(df_reviews)\n",
    "indices = np.random.randint(0,n_indices,10)\n",
    "df_reviews_teste = df_reviews.iloc[indices]\n",
    "\n",
    "df_filtrado_positivo = df_reviews_teste[df_reviews_teste['sentiment']=='positive']\n",
    "df_filtrado_negativo = df_reviews_teste[df_reviews_teste['sentiment']=='negative']\n",
    "\n",
    "dict_palavras_pos={}\n",
    "for review in df_filtrado_positivo['review']:\n",
    "    review.replace('<br />', \" \")\n",
    "    filtro_caracter=[',','(', '/', ')',')',';',':','.' ]\n",
    "    for caracter in review:\n",
    "        if caracter in filtro_caracter:\n",
    "            review=review.replace(caracter,'')\n",
    "    lista_reviews_semi_filtrada = review.split()\n",
    "    \n",
    "    print(lista_reviews_semi_filtrada)\n"
   ]
  },
  {
   "cell_type": "code",
   "execution_count": null,
   "metadata": {},
   "outputs": [],
   "source": []
  }
 ],
 "metadata": {
  "language_info": {
   "name": "python"
  },
  "orig_nbformat": 4
 },
 "nbformat": 4,
 "nbformat_minor": 2
}
