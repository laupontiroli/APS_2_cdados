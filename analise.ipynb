{
 "cells": [
  {
   "cell_type": "code",
   "execution_count": 16,
   "metadata": {},
   "outputs": [],
   "source": [
    "import pandas as pd\n",
    "import string \n",
    "df_reviews = pd.read_csv('IMDB_Dataset.csv')\n",
    "\n",
    "df_reviews_teste = df_reviews.sample(97)\n",
    "\n",
    "df_filtrado_positivo = df_reviews_teste[df_reviews_teste['sentiment']=='positive']\n",
    "df_filtrado_negativo = df_reviews_teste[df_reviews_teste['sentiment']=='negative']\n",
    "\n",
    "\n",
    "dict_palavras_pos={}\n",
    "for review in df_filtrado_positivo['review']:\n",
    "    review=review.replace('<br />', \" \")\n",
    "    translator= str.maketrans(' ',' ', string.punctuation)\n",
    "    review = review.translate(translator)\n",
    "    review=set(review.lower().split())\n",
    "    for palavra in review:\n",
    "        if palavra in dict_palavras_pos:\n",
    "            dict_palavras_pos[palavra]+=1\n",
    "        else:\n",
    "            dict_palavras_pos[palavra]=1\n",
    "\n",
    "\n",
    "dict_palavras_neg={}\n",
    "for review in df_filtrado_negativo['review']:\n",
    "    review=review.replace('<br />', \" \")\n",
    "    translator= str.maketrans(' ',' ', string.punctuation)\n",
    "    review = review.translate(translator)\n",
    "    review=set(review.lower().split())\n",
    "    for palavra in review:\n",
    "        palavra=palavra.lower()\n",
    "        if palavra in dict_palavras_neg:\n",
    "            dict_palavras_neg[palavra]+=1\n",
    "        else:\n",
    "            dict_palavras_neg[palavra]=1\n",
    "\n"
   ]
  },
  {
   "cell_type": "code",
   "execution_count": 22,
   "metadata": {},
   "outputs": [
    {
     "name": "stdout",
     "output_type": "stream",
     "text": [
      "2929 2929\n"
     ]
    }
   ],
   "source": [
    "#calcular P(palavra|classe)\n",
    "\n",
    "#positivo\n",
    "quant_review_pos = len(df_filtrado_positivo)\n",
    "dict_prob_dado_pos = {}\n",
    "\n",
    "for palavra, quant in dict_palavras_pos.items():\n",
    "    prob = quant/quant_review_pos\n",
    "    dict_prob_dado_pos[palavra] = prob\n",
    "\n",
    "\n",
    "\n",
    "#negativo\n",
    "quant_review_neg = len(df_filtrado_negativo)\n",
    "dict_prob_dado_neg = {}\n",
    "\n",
    "for palavra, quant in dict_palavras_neg.items():\n",
    "    prob = quant/quant_review_neg\n",
    "    dict_prob_dado_neg[palavra] = prob\n",
    "\n",
    "\n",
    "\n",
    "#calcular P(nao palavra|classe)\n",
    "\n",
    "#positvo\n",
    "dict_prob_n_palavra_dado_pos = {}\n",
    "for palavra, prob in dict_prob_dado_pos.items():\n",
    "    prob_n_palavra = 1 - prob\n",
    "    dict_prob_n_palavra_dado_pos[palavra] = prob_n_palavra\n",
    "\n",
    "#negativo\n",
    "dict_prob_n_palavra_dado_neg = {}\n",
    "for palavra, prob in dict_prob_dado_neg.items():\n",
    "    prob_n_palavra = 1 - prob\n",
    "    dict_prob_n_palavra_dado_neg[palavra] = prob_n_palavra"
   ]
  },
  {
   "cell_type": "code",
   "execution_count": 25,
   "metadata": {},
   "outputs": [
    {
     "name": "stdout",
     "output_type": "stream",
     "text": [
      "4677 2929 2889\n"
     ]
    }
   ],
   "source": [
    "#Calcular P(palavra)\n",
    "palavras_totais ={}\n",
    "\n",
    "for palavra, quant in dict_palavras_pos.items():\n",
    "    palavras_totais[palavra] = quant\n",
    "for palavra, quant in dict_palavras_neg.items():\n",
    "    if palavra in palavras_totais:\n",
    "        palavras_totais[palavra]+=quant\n",
    "    else:\n",
    "        palavras_totais[palavra]=quant\n",
    "\n",
    "prob_palavras_dict={}\n",
    "for palavra in palavras_totais:\n",
    "    p_palavra=palavras_totais[palavra]/len(df_reviews_teste)\n",
    "    prob_palavras_dict[palavra]=p_palavra"
   ]
  },
  {
   "cell_type": "code",
   "execution_count": 39,
   "metadata": {},
   "outputs": [
    {
     "name": "stdout",
     "output_type": "stream",
     "text": [
      "0.5128122715351672 positive\n"
     ]
    }
   ],
   "source": [
    "#Calcular P(classe|texto)\n",
    "\n",
    "p_negativo = 0.5\n",
    "p_positivo = 0.5\n",
    "p_total = 1\n",
    "\n",
    "# for texto in df_reviews_teste['review']:\n",
    "texto=df_reviews_teste['review']\n",
    "texto=texto.iloc[1]\n",
    "\n",
    "\n",
    "#positivo\n",
    "for palavra in palavras_totais:\n",
    "    if palavra in texto:\n",
    "        if palavra in dict_prob_dado_pos:\n",
    "            p_total *= dict_prob_dado_pos[palavra]/prob_palavras_dict[palavra]\n",
    "    else:\n",
    "        if palavra in dict_prob_n_palavra_dado_pos:\n",
    "            p_total *= dict_prob_n_palavra_dado_pos[palavra]/(1-prob_palavras_dict[palavra])\n",
    "p_total*=p_positivo\n",
    "\n",
    "print(p_total,df_reviews_teste['sentiment'].iloc[1])"
   ]
  }
 ],
 "metadata": {
  "kernelspec": {
   "display_name": ".venv",
   "language": "python",
   "name": "python3"
  },
  "language_info": {
   "codemirror_mode": {
    "name": "ipython",
    "version": 3
   },
   "file_extension": ".py",
   "mimetype": "text/x-python",
   "name": "python",
   "nbconvert_exporter": "python",
   "pygments_lexer": "ipython3",
   "version": "3.10.10"
  },
  "orig_nbformat": 4
 },
 "nbformat": 4,
 "nbformat_minor": 2
}
